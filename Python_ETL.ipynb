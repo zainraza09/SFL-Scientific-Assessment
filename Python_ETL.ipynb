{
 "cells": [
  {
   "cell_type": "code",
   "execution_count": 1,
   "id": "1a767a29",
   "metadata": {
    "tags": []
   },
   "outputs": [
    {
     "name": "stdout",
     "output_type": "stream",
     "text": [
      "       id  first_name   last_name                       email       gender  \\\n",
      "0       1  Margaretta  Laughtisse  mlaughtisse0@mediafire.com  Genderfluid   \n",
      "1       2       Vally     Garment          vgarment1@wisc.edu     Bigender   \n",
      "2       3       Tessa       Curee             tcuree2@php.net     Bigender   \n",
      "3       4       Arman   Heineking   aheineking3@tuttocitta.it         Male   \n",
      "4       5     Roselia     Trustie            rtrustie4@ft.com   Non-binary   \n",
      "..    ...         ...         ...                         ...          ...   \n",
      "995   996      Roxana      Prandi          rprandirn@ox.ac.uk      Agender   \n",
      "996   997     Matthus     Chadwin         mchadwinro@hibu.com       Female   \n",
      "997   998       Artur   Fairbanks       afairbanksrp@live.com     Bigender   \n",
      "998   999      Amalee     Bingall        abingallrq@yandex.ru  Genderqueer   \n",
      "999  1000     Gunther      Karlik        gkarlikrr@smh.com.au  Genderfluid   \n",
      "\n",
      "          ip_address  \n",
      "0     34.148.232.131  \n",
      "1      15.158.123.36  \n",
      "2    132.209.143.225  \n",
      "3     157.110.61.233  \n",
      "4       49.55.218.81  \n",
      "..               ...  \n",
      "995   227.67.205.244  \n",
      "996  189.120.124.155  \n",
      "997  246.169.244.242  \n",
      "998   16.201.179.189  \n",
      "999     0.14.221.255  \n",
      "\n",
      "[1000 rows x 6 columns]\n"
     ]
    }
   ],
   "source": [
    "import pandas as pd\n",
    "\n",
    "data = pd.read_csv('C:\\\\Users\\Fatima Ahmad\\\\Desktop\\\\SFLScientific Solution\\\\SFL-Scientific-Assesment\\\\DATA.csv')   \n",
    "df = pd.DataFrame(data)\n",
    "\n",
    "print(df) "
   ]
  },
  {
   "cell_type": "code",
   "execution_count": 2,
   "id": "7d39b916",
   "metadata": {},
   "outputs": [
    {
     "name": "stdout",
     "output_type": "stream",
     "text": [
      "       id  first_name   last_name                       email       gender  \\\n",
      "0       1  Margaretta  Laughtisse  mlaughtisse0@mediafire.com  Genderfluid   \n",
      "1       2       Vally     Garment          vgarment1@wisc.edu     Bigender   \n",
      "2       3       Tessa       Curee             tcuree2@php.net     Bigender   \n",
      "3       4       Arman   Heineking   aheineking3@tuttocitta.it         Male   \n",
      "4       5     Roselia     Trustie            rtrustie4@ft.com   Non-binary   \n",
      "..    ...         ...         ...                         ...          ...   \n",
      "995   996      Roxana      Prandi          rprandirn@ox.ac.uk      Agender   \n",
      "996   997     Matthus     Chadwin         mchadwinro@hibu.com       Female   \n",
      "997   998       Artur   Fairbanks       afairbanksrp@live.com     Bigender   \n",
      "998   999      Amalee     Bingall        abingallrq@yandex.ru  Genderqueer   \n",
      "999  1000     Gunther      Karlik        gkarlikrr@smh.com.au  Genderfluid   \n",
      "\n",
      "          ip_address                   name  \n",
      "0     34.148.232.131  Margaretta Laughtisse  \n",
      "1      15.158.123.36          Vally Garment  \n",
      "2    132.209.143.225            Tessa Curee  \n",
      "3     157.110.61.233        Arman Heineking  \n",
      "4       49.55.218.81        Roselia Trustie  \n",
      "..               ...                    ...  \n",
      "995   227.67.205.244          Roxana Prandi  \n",
      "996  189.120.124.155        Matthus Chadwin  \n",
      "997  246.169.244.242        Artur Fairbanks  \n",
      "998   16.201.179.189         Amalee Bingall  \n",
      "999     0.14.221.255         Gunther Karlik  \n",
      "\n",
      "[1000 rows x 7 columns]\n"
     ]
    }
   ],
   "source": [
    "#Combine first and last name to full name\n",
    "df['name'] = df['first_name'].str.cat(df['last_name'],sep=\" \")\n",
    "print(df)"
   ]
  },
  {
   "cell_type": "code",
   "execution_count": 3,
   "id": "2864562b",
   "metadata": {},
   "outputs": [],
   "source": [
    "import pyodbc as pc\n",
    "# Connect to SQL Server\n",
    "connection_string = \"Driver=SQL Server;Server=DESKTOP-KGB2GN4;Database={0};Trusted_Connection=Yes;\"                           \n",
    "cnxn = pc.connect(connection_string.format(\"SFL\"), autocommit=True)\n",
    "cur=cnxn.cursor()\n",
    "# Create Table\n",
    "cur.execute('''\n",
    "           CREATE TABLE  Data (\n",
    "            id int,\n",
    "            first_name varchar(50),\n",
    "            last_name varchar(50),\n",
    "            email varchar(100),\n",
    "            gender varchar(50),\n",
    "            ip_address varchar(100),\n",
    "            name varchar(100))\n",
    "               ''')\n",
    "cnxn.close()"
   ]
  },
  {
   "cell_type": "code",
   "execution_count": 4,
   "id": "a2254a87",
   "metadata": {},
   "outputs": [],
   "source": [
    "# Connect to SQL Server\n",
    "connection_string = \"Driver=SQL Server;Server=DESKTOP-KGB2GN4;Database={0};Trusted_Connection=Yes;\"                           \n",
    "cnxn = pc.connect(connection_string.format(\"SFL\"), autocommit=True)\n",
    "cur=cnxn.cursor()\n",
    "\n",
    "for row in df.itertuples():\n",
    "    cur.execute('''\n",
    "                INSERT INTO data (id, first_name, last_name, email, gender, ip_address, name)\n",
    "                VALUES (?,?,?,?,?,?,?)\n",
    "                ''',\n",
    "                row.id, \n",
    "                row.first_name,\n",
    "                row.last_name,\n",
    "                row.email, \n",
    "                row.gender,\n",
    "                row.ip_address,\n",
    "                row.name\n",
    "                )\n",
    "cnxn.close() "
   ]
  },
  {
   "cell_type": "code",
   "execution_count": null,
   "id": "4cfb1c98",
   "metadata": {},
   "outputs": [],
   "source": []
  }
 ],
 "metadata": {
  "kernelspec": {
   "display_name": "Python 3 (ipykernel)",
   "language": "python",
   "name": "python3"
  },
  "language_info": {
   "codemirror_mode": {
    "name": "ipython",
    "version": 3
   },
   "file_extension": ".py",
   "mimetype": "text/x-python",
   "name": "python",
   "nbconvert_exporter": "python",
   "pygments_lexer": "ipython3",
   "version": "3.9.7"
  }
 },
 "nbformat": 4,
 "nbformat_minor": 5
}
